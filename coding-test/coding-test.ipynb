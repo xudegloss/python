{
 "cells": [
  {
   "cell_type": "markdown",
   "id": "22290485",
   "metadata": {},
   "source": [
    "# 워밍업 문제"
   ]
  },
  {
   "cell_type": "markdown",
   "id": "d8f56779",
   "metadata": {},
   "source": [
    "1부터 10,000까지 8이라는 숫자가 총 몇번 나오는가?"
   ]
  },
  {
   "cell_type": "code",
   "execution_count": 57,
   "id": "edd6e1fa",
   "metadata": {
    "scrolled": false
   },
   "outputs": [
    {
     "name": "stdout",
     "output_type": "stream",
     "text": [
      "1.24 µs ± 37.4 ns per loop (mean ± std. dev. of 7 runs, 1000000 loops each)\n"
     ]
    }
   ],
   "source": [
    "%%timeit\n",
    "\n",
    "str(list(range(1, 11))).count(\"8\")"
   ]
  },
  {
   "cell_type": "code",
   "execution_count": 58,
   "id": "a155866e",
   "metadata": {},
   "outputs": [
    {
     "data": {
      "text/plain": [
       "4000"
      ]
     },
     "execution_count": 58,
     "metadata": {},
     "output_type": "execute_result"
    }
   ],
   "source": [
    "str(list(range(1, 10001))).count(\"8\")"
   ]
  },
  {
   "cell_type": "code",
   "execution_count": 59,
   "id": "039b2b82",
   "metadata": {},
   "outputs": [
    {
     "data": {
      "text/plain": [
       "4000"
      ]
     },
     "execution_count": 59,
     "metadata": {},
     "output_type": "execute_result"
    }
   ],
   "source": [
    "count = 0\n",
    "for i in range(10001):\n",
    "    if \"8\" in str(i):\n",
    "        count += str(i).count(\"8\")\n",
    "        \n",
    "count"
   ]
  },
  {
   "cell_type": "code",
   "execution_count": 60,
   "id": "95f90f4c",
   "metadata": {},
   "outputs": [
    {
     "data": {
      "text/plain": [
       "4000"
      ]
     },
     "execution_count": 60,
     "metadata": {},
     "output_type": "execute_result"
    }
   ],
   "source": [
    "str([i for i in range(0, 10001)]).count(\"8\")"
   ]
  },
  {
   "cell_type": "markdown",
   "id": "328229b3",
   "metadata": {},
   "source": [
    "# 워밍업 문제"
   ]
  },
  {
   "cell_type": "markdown",
   "id": "62740f9f",
   "metadata": {},
   "source": [
    "거리가 가장 짧은 쌍 출력하는 함수"
   ]
  },
  {
   "cell_type": "markdown",
   "id": "62cd9dfe",
   "metadata": {},
   "source": [
    "예를 들면, S=[1,3,4,8,13,17,20] 이라면 (3, 4)가 될 것이다."
   ]
  },
  {
   "cell_type": "code",
   "execution_count": 61,
   "id": "60901d9c",
   "metadata": {},
   "outputs": [
    {
     "data": {
      "text/plain": [
       "20"
      ]
     },
     "execution_count": 61,
     "metadata": {},
     "output_type": "execute_result"
    }
   ],
   "source": [
    "s=[1,3,4,8,13,17,20]\n",
    "m=max(s)\n",
    "m"
   ]
  },
  {
   "cell_type": "code",
   "execution_count": 62,
   "id": "bf145472",
   "metadata": {},
   "outputs": [
    {
     "data": {
      "text/plain": [
       "(3, 4)"
      ]
     },
     "execution_count": 62,
     "metadata": {},
     "output_type": "execute_result"
    }
   ],
   "source": [
    "index=0\n",
    "m=max(s)\n",
    "\n",
    "for i in range(len(s)-1):\n",
    "    if m > s[i+1] - s[i]:\n",
    "        index=i\n",
    "        m = s[i+1] - s[i]\n",
    "        \n",
    "s[index], s[index+1]"
   ]
  },
  {
   "cell_type": "code",
   "execution_count": 63,
   "id": "c8f15c08",
   "metadata": {},
   "outputs": [
    {
     "data": {
      "text/plain": [
       "[(1, 3), (3, 4), (4, 8), (8, 13), (13, 17), (17, 20)]"
      ]
     },
     "execution_count": 63,
     "metadata": {},
     "output_type": "execute_result"
    }
   ],
   "source": [
    "s=[1,3,4,8,13,17,20]\n",
    "ss=[3,4,8,13,17,20]\n",
    "\n",
    "list(zip(s, ss))"
   ]
  },
  {
   "cell_type": "code",
   "execution_count": 64,
   "id": "3b17ed13",
   "metadata": {},
   "outputs": [
    {
     "data": {
      "text/plain": [
       "[(3, 4), (1, 3), (17, 20), (4, 8), (13, 17), (8, 13)]"
      ]
     },
     "execution_count": 64,
     "metadata": {},
     "output_type": "execute_result"
    }
   ],
   "source": [
    "sorted(list(zip(s, ss)), key=lambda i:i[1]-i[0]) # 차로 정렬"
   ]
  },
  {
   "cell_type": "code",
   "execution_count": 65,
   "id": "151edd74",
   "metadata": {},
   "outputs": [
    {
     "data": {
      "text/plain": [
       "(3, 4)"
      ]
     },
     "execution_count": 65,
     "metadata": {},
     "output_type": "execute_result"
    }
   ],
   "source": [
    "sorted(list(zip(s, ss)), key=lambda i:i[1]-i[0])[0] # 차로 정렬"
   ]
  },
  {
   "cell_type": "code",
   "execution_count": 66,
   "id": "b3682c24",
   "metadata": {},
   "outputs": [
    {
     "data": {
      "text/plain": [
       "[(3, 4), (1, 3), (17, 20), (4, 8), (13, 17), (8, 13)]"
      ]
     },
     "execution_count": 66,
     "metadata": {},
     "output_type": "execute_result"
    }
   ],
   "source": [
    "def 두수의차(i):\n",
    "    return i[1]-i[0]\n",
    "\n",
    "sorted(list(zip(s, ss)), key=두수의차)"
   ]
  },
  {
   "cell_type": "markdown",
   "id": "ec99f07f",
   "metadata": {},
   "source": [
    "# 카카오 2018 공채 문제 1번"
   ]
  },
  {
   "cell_type": "code",
   "execution_count": 67,
   "id": "98a5328b",
   "metadata": {},
   "outputs": [
    {
     "data": {
      "text/plain": [
       "'0b1001'"
      ]
     },
     "execution_count": 67,
     "metadata": {},
     "output_type": "execute_result"
    }
   ],
   "source": [
    "bin(9)"
   ]
  },
  {
   "cell_type": "code",
   "execution_count": 68,
   "id": "b8b31c35",
   "metadata": {},
   "outputs": [
    {
     "data": {
      "text/plain": [
       "'0b11110'"
      ]
     },
     "execution_count": 68,
     "metadata": {},
     "output_type": "execute_result"
    }
   ],
   "source": [
    "bin(30)"
   ]
  },
  {
   "cell_type": "code",
   "execution_count": 69,
   "id": "51277c2a",
   "metadata": {},
   "outputs": [],
   "source": [
    "#  1001\n",
    "# 11110\n",
    "# ------\n",
    "# 11111"
   ]
  },
  {
   "cell_type": "code",
   "execution_count": 70,
   "id": "4911d18a",
   "metadata": {},
   "outputs": [
    {
     "data": {
      "text/plain": [
       "'#####'"
      ]
     },
     "execution_count": 70,
     "metadata": {},
     "output_type": "execute_result"
    }
   ],
   "source": [
    "bin(9 | 30)[2:].replace(\"1\", \"#\").replace(\"0\", \" \") # 이진수 + or 연산자"
   ]
  },
  {
   "cell_type": "code",
   "execution_count": 71,
   "id": "ced478fc",
   "metadata": {},
   "outputs": [
    {
     "name": "stdout",
     "output_type": "stream",
     "text": [
      "9 30\n",
      "20 1\n",
      "28 21\n",
      "18 17\n",
      "11 28\n"
     ]
    }
   ],
   "source": [
    "arr1 = [9,20,28,18,11]\n",
    "arr2 = [30,1,21,17,28]\n",
    "n=5\n",
    "\n",
    "for i, j in list(zip(arr1, arr2)):\n",
    "    print(i, j)"
   ]
  },
  {
   "cell_type": "code",
   "execution_count": 72,
   "id": "1b34e193",
   "metadata": {},
   "outputs": [
    {
     "name": "stdout",
     "output_type": "stream",
     "text": [
      "#####\n",
      "# # #\n",
      "### #\n",
      "#  ##\n",
      "#####\n"
     ]
    }
   ],
   "source": [
    "for i, j in list(zip(arr1, arr2)):\n",
    "    print(bin(i | j)[2:].replace(\"1\", \"#\").replace(\"0\", \" \"))\n",
    "    \n",
    "## 자릿수가 맞지 않는다."
   ]
  },
  {
   "cell_type": "code",
   "execution_count": 75,
   "id": "851d12d5",
   "metadata": {},
   "outputs": [
    {
     "name": "stdout",
     "output_type": "stream",
     "text": [
      "00111\n",
      "10101\n",
      "11101\n",
      "10011\n",
      "11111\n"
     ]
    }
   ],
   "source": [
    "arr1 = [3,20,28,18,11]\n",
    "arr2 = [5,1,21,17,28]\n",
    "n=5\n",
    "\n",
    "for i, j in list(zip(arr1, arr2)):\n",
    "    print(bin(i | j)[2:].zfill(n))"
   ]
  },
  {
   "cell_type": "code",
   "execution_count": 73,
   "id": "1577eaf6",
   "metadata": {},
   "outputs": [
    {
     "name": "stdout",
     "output_type": "stream",
     "text": [
      "#####\n",
      "# # #\n",
      "### #\n",
      "#  ##\n",
      "#####\n"
     ]
    }
   ],
   "source": [
    "arr1 = [9,20,28,18,11]\n",
    "arr2 = [30,1,21,17,28]\n",
    "n=5\n",
    "\n",
    "for i, j in list(zip(arr1, arr2)):\n",
    "    print(bin(i | j)[2:].zfill(n).replace(\"1\", \"#\").replace(\"0\", \" \"))\n",
    "    \n",
    "## zfill 이용하여 자릿수 맞춰주기."
   ]
  },
  {
   "cell_type": "code",
   "execution_count": 77,
   "id": "12d2a7d9",
   "metadata": {},
   "outputs": [],
   "source": [
    "def solution(n, arr1, arr2):\n",
    "    answer=[]\n",
    "    for i, j in list(zip(arr1, arr2)):\n",
    "        answer.append(bin(i | j)[2:].zfill(n).replace(\"1\", \"#\").replace(\"0\", \" \"))\n",
    "    return answer"
   ]
  },
  {
   "cell_type": "code",
   "execution_count": 78,
   "id": "7cd9c26e",
   "metadata": {},
   "outputs": [
    {
     "data": {
      "text/plain": [
       "['######', '###  #', '##  ##', ' #### ', ' #####', '### # ']"
      ]
     },
     "execution_count": 78,
     "metadata": {},
     "output_type": "execute_result"
    }
   ],
   "source": [
    "solution(6, [46, 33, 33 ,22, 31, 50], [27 ,56, 19, 14, 14, 10])"
   ]
  },
  {
   "cell_type": "markdown",
   "id": "9625e8a2",
   "metadata": {},
   "source": [
    "# 카카오 2018 공채 문제 2번"
   ]
  },
  {
   "cell_type": "code",
   "execution_count": 82,
   "id": "25e6428b",
   "metadata": {},
   "outputs": [
    {
     "name": "stdout",
     "output_type": "stream",
     "text": [
      "[1, 2, 3]\n"
     ]
    }
   ],
   "source": [
    "def solution(dartResult):\n",
    "    score=[]\n",
    "    for i in dartResult: \n",
    "        if i == \"S\":\n",
    "            pass\n",
    "        elif i == \"D\":\n",
    "            pass     \n",
    "        elif i == \"T\":\n",
    "            pass\n",
    "        elif i == \"*\":\n",
    "            pass\n",
    "        elif i == \"#\":\n",
    "            pass\n",
    "        else:\n",
    "            score.append(int(i))\n",
    "    return score\n",
    "            \n",
    "print(solution(\"1S2D*3T\"))"
   ]
  },
  {
   "cell_type": "code",
   "execution_count": 92,
   "id": "2f80e6c1",
   "metadata": {},
   "outputs": [
    {
     "name": "stdout",
     "output_type": "stream",
     "text": [
      "[1, 2, 10, 0]\n"
     ]
    }
   ],
   "source": [
    "def solution(dartResult):\n",
    "    score=[]\n",
    "    for num, i in enumerate(dartResult, 1): \n",
    "        if i == \"S\":\n",
    "            pass\n",
    "        elif i == \"D\":\n",
    "            pass     \n",
    "        elif i == \"T\":\n",
    "            pass\n",
    "        elif i == \"*\":\n",
    "            pass\n",
    "        elif i == \"#\":\n",
    "            pass\n",
    "        else:\n",
    "            if dartResult[num] == \"0\":\n",
    "                score.append(10)\n",
    "            else:\n",
    "                score.append(int(i))\n",
    "    return score\n",
    "            \n",
    "print(solution(\"1S2D*10T\"))"
   ]
  }
 ],
 "metadata": {
  "kernelspec": {
   "display_name": "Python 3 (ipykernel)",
   "language": "python",
   "name": "python3"
  },
  "language_info": {
   "codemirror_mode": {
    "name": "ipython",
    "version": 3
   },
   "file_extension": ".py",
   "mimetype": "text/x-python",
   "name": "python",
   "nbconvert_exporter": "python",
   "pygments_lexer": "ipython3",
   "version": "3.9.13"
  },
  "toc": {
   "base_numbering": 1,
   "nav_menu": {},
   "number_sections": true,
   "sideBar": true,
   "skip_h1_title": false,
   "title_cell": "Table of Contents",
   "title_sidebar": "Contents",
   "toc_cell": false,
   "toc_position": {},
   "toc_section_display": true,
   "toc_window_display": false
  }
 },
 "nbformat": 4,
 "nbformat_minor": 5
}
